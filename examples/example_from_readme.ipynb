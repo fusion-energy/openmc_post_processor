{
 "cells": [
  {
   "cell_type": "code",
   "execution_count": 1,
   "id": "14df8c6a-6b0a-44d3-b90c-74ee6ff6b820",
   "metadata": {},
   "outputs": [],
   "source": [
    "import openmc_tally_unit_converter as otuc\n",
    "import openmc\n"
   ]
  },
  {
   "cell_type": "code",
   "execution_count": 3,
   "id": "b1934d79-befd-4c38-b693-725f5c09d6eb",
   "metadata": {},
   "outputs": [
    {
     "data": {
      "text/plain": [
       "{1: Tally\n",
       " \tID             =\t1\n",
       " \tName           =\t2_flux\n",
       " \tFilters        =\tCellFilter\n",
       " \tNuclides       =\ttotal\n",
       " \tScores         =\t['flux']\n",
       " \tEstimator      =\ttracklength,\n",
       " 2: Tally\n",
       " \tID             =\t2\n",
       " \tName           =\t2_neutron_spectra\n",
       " \tFilters        =\tParticleFilter, EnergyFilter, CellFilter\n",
       " \tNuclides       =\ttotal\n",
       " \tScores         =\t['flux']\n",
       " \tEstimator      =\ttracklength,\n",
       " 3: Tally\n",
       " \tID             =\t3\n",
       " \tName           =\t2_TBR\n",
       " \tFilters        =\tCellFilter\n",
       " \tNuclides       =\ttotal\n",
       " \tScores         =\t['(n,Xt)']\n",
       " \tEstimator      =\ttracklength,\n",
       " 4: Tally\n",
       " \tID             =\t4\n",
       " \tName           =\t2_heating\n",
       " \tFilters        =\tCellFilter\n",
       " \tNuclides       =\ttotal\n",
       " \tScores         =\t['heating']\n",
       " \tEstimator      =\ttracklength,\n",
       " 5: Tally\n",
       " \tID             =\t5\n",
       " \tName           =\t2_neutron_effective_dose\n",
       " \tFilters        =\tParticleFilter, EnergyFunctionFilter, CellFilter\n",
       " \tNuclides       =\ttotal\n",
       " \tScores         =\t['flux']\n",
       " \tEstimator      =\ttracklength,\n",
       " 6: Tally\n",
       " \tID             =\t6\n",
       " \tName           =\t2_photon_effective_dose\n",
       " \tFilters        =\tParticleFilter, EnergyFunctionFilter, CellFilter\n",
       " \tNuclides       =\ttotal\n",
       " \tScores         =\t['flux']\n",
       " \tEstimator      =\ttracklength,\n",
       " 7: Tally\n",
       " \tID             =\t7\n",
       " \tName           =\t2_neutron_fast_flux\n",
       " \tFilters        =\tParticleFilter, EnergyFilter, CellFilter\n",
       " \tNuclides       =\ttotal\n",
       " \tScores         =\t['flux']\n",
       " \tEstimator      =\ttracklength,\n",
       " 8: Tally\n",
       " \tID             =\t8\n",
       " \tName           =\t2_photon_fast_flux\n",
       " \tFilters        =\tParticleFilter, EnergyFilter, CellFilter\n",
       " \tNuclides       =\ttotal\n",
       " \tScores         =\t['flux']\n",
       " \tEstimator      =\ttracklength,\n",
       " 9: Tally\n",
       " \tID             =\t9\n",
       " \tName           =\t2_neutron_spectra\n",
       " \tFilters        =\tParticleFilter, EnergyFilter, CellFilter\n",
       " \tNuclides       =\ttotal\n",
       " \tScores         =\t['flux']\n",
       " \tEstimator      =\ttracklength,\n",
       " 10: Tally\n",
       " \tID             =\t10\n",
       " \tName           =\t2_neutron_spectra\n",
       " \tFilters        =\tParticleFilter, EnergyFilter, CellFilter\n",
       " \tNuclides       =\ttotal\n",
       " \tScores         =\t['flux']\n",
       " \tEstimator      =\ttracklength,\n",
       " 11: Tally\n",
       " \tID             =\t11\n",
       " \tName           =\t3_neutron_spectra\n",
       " \tFilters        =\tParticleFilter, EnergyFilter, CellFilter\n",
       " \tNuclides       =\ttotal\n",
       " \tScores         =\t['flux']\n",
       " \tEstimator      =\ttracklength,\n",
       " 12: Tally\n",
       " \tID             =\t12\n",
       " \tName           =\t2_photon_spectra\n",
       " \tFilters        =\tParticleFilter, EnergyFilter, CellFilter\n",
       " \tNuclides       =\ttotal\n",
       " \tScores         =\t['flux']\n",
       " \tEstimator      =\ttracklength,\n",
       " 13: Tally\n",
       " \tID             =\t13\n",
       " \tName           =\t2_(n,total)\n",
       " \tFilters        =\tCellFilter\n",
       " \tNuclides       =\ttotal\n",
       " \tScores         =\t['total']\n",
       " \tEstimator      =\ttracklength,\n",
       " 14: Tally\n",
       " \tID             =\t14\n",
       " \tName           =\t2_damage-energy\n",
       " \tFilters        =\tCellFilter\n",
       " \tNuclides       =\ttotal\n",
       " \tScores         =\t['damage-energy']\n",
       " \tEstimator      =\ttracklength,\n",
       " 15: Tally\n",
       " \tID             =\t15\n",
       " \tName           =\tneutron_effective_dose_on_2D_mesh_xy\n",
       " \tFilters        =\tParticleFilter, EnergyFunctionFilter, MeshFilter\n",
       " \tNuclides       =\ttotal\n",
       " \tScores         =\t['flux']\n",
       " \tEstimator      =\ttracklength,\n",
       " 16: Tally\n",
       " \tID             =\t16\n",
       " \tName           =\tneutron_effective_dose_on_3D_mesh\n",
       " \tFilters        =\tParticleFilter, EnergyFunctionFilter, MeshFilter\n",
       " \tNuclides       =\ttotal\n",
       " \tScores         =\t['flux']\n",
       " \tEstimator      =\ttracklength,\n",
       " 17: Tally\n",
       " \tID             =\t17\n",
       " \tName           =\theating_on_2D_mesh_xy\n",
       " \tFilters        =\tMeshFilter\n",
       " \tNuclides       =\ttotal\n",
       " \tScores         =\t['heating']\n",
       " \tEstimator      =\ttracklength,\n",
       " 18: Tally\n",
       " \tID             =\t18\n",
       " \tName           =\theating_on_3D_mesh\n",
       " \tFilters        =\tMeshFilter\n",
       " \tNuclides       =\ttotal\n",
       " \tScores         =\t['heating']\n",
       " \tEstimator      =\ttracklength}"
      ]
     },
     "execution_count": 3,
     "metadata": {},
     "output_type": "execute_result"
    }
   ],
   "source": [
    "statepoint = openmc.StatePoint(filepath=\"statepoint.2.h5\")\n",
    "statepoint.tallies"
   ]
  },
  {
   "cell_type": "code",
   "execution_count": 4,
   "id": "8105aaca-2571-4259-90b6-d3379ed89fcb",
   "metadata": {},
   "outputs": [],
   "source": [
    "my_tally = statepoint.get_tally(name=\"2_heating\")"
   ]
  },
  {
   "cell_type": "code",
   "execution_count": 6,
   "id": "57d63abe-329d-4bc4-903d-3c123b98fee3",
   "metadata": {},
   "outputs": [
    {
     "name": "stdout",
     "output_type": "stream",
     "text": [
      "(<Quantity([218559.22320927], 'electron_volt / source_particle')>, <Quantity([92.23598504], 'electron_volt / source_particle')>)\n"
     ]
    }
   ],
   "source": [
    "tally = otuc.process_tally(\n",
    "    tally=my_tally,\n",
    "    required_units='eV / source_particle'\n",
    ")\n",
    "print(tally)"
   ]
  },
  {
   "cell_type": "code",
   "execution_count": 8,
   "id": "78144320-72aa-4bac-b293-063afe44692e",
   "metadata": {},
   "outputs": [
    {
     "name": "stdout",
     "output_type": "stream",
     "text": [
      "(<Quantity([3.50170481e-14], 'joule / source_particle')>, <Quantity([1.4777834e-17], 'joule / source_particle')>)\n"
     ]
    }
   ],
   "source": [
    "converted_tally = otuc.process_tally(\n",
    "    tally=my_tally,\n",
    "    required_units = \"joules / source_particle\"\n",
    ")\n",
    "\n",
    "print(converted_tally)"
   ]
  },
  {
   "cell_type": "code",
   "execution_count": 10,
   "id": "060131bb-2c02-4fad-bdf9-2efabd05a988",
   "metadata": {},
   "outputs": [
    {
     "name": "stdout",
     "output_type": "stream",
     "text": [
      "(<Quantity([2.10102288e+08], 'joule / minute')>, <Quantity([88667.00402725], 'joule / minute')>)\n"
     ]
    }
   ],
   "source": [
    "converted_tally = otuc.process_tally(\n",
    "    tally=my_tally,\n",
    "    source_strength=1e20,  # input units for this argument are particles per second\n",
    "    required_units = \"joules / minute\"\n",
    ")\n",
    "\n",
    "print(converted_tally)"
   ]
  },
  {
   "cell_type": "code",
   "execution_count": 16,
   "id": "36846a7b-af7a-4e6b-bb4e-58017f80ecee",
   "metadata": {},
   "outputs": [
    {
     "data": {
      "text/plain": [
       "(array([3.92724948e-05]) <Unit('joule / meter ** 3 / second')>,\n",
       " array([1.65737103e-08]) <Unit('joule / meter ** 3 / second')>)"
      ]
     },
     "execution_count": 16,
     "metadata": {},
     "output_type": "execute_result"
    }
   ],
   "source": [
    "converted_tally = otuc.process_tally(\n",
    "    tally=my_tally,\n",
    "    source_strength=13458.3,  # input units for this argument are particles per second\n",
    "    volume=12,  # input units are in cm3\n",
    "    required_units = \"joules / second / meter **3\"\n",
    ")\n",
    "converted_tally"
   ]
  },
  {
   "cell_type": "code",
   "execution_count": null,
   "id": "52ad3f34-e0cd-4f03-aa70-e15086fef33e",
   "metadata": {},
   "outputs": [],
   "source": []
  }
 ],
 "metadata": {
  "kernelspec": {
   "display_name": "Python 3 (ipykernel)",
   "language": "python",
   "name": "python3"
  },
  "language_info": {
   "codemirror_mode": {
    "name": "ipython",
    "version": 3
   },
   "file_extension": ".py",
   "mimetype": "text/x-python",
   "name": "python",
   "nbconvert_exporter": "python",
   "pygments_lexer": "ipython3",
   "version": "3.8.12"
  }
 },
 "nbformat": 4,
 "nbformat_minor": 5
}
