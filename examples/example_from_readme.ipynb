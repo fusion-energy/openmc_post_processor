{
 "cells": [
  {
   "cell_type": "markdown",
   "id": "75f5112e-c00d-4204-b620-1fb5135b2c94",
   "metadata": {},
   "source": []
  },
  {
   "cell_type": "code",
   "execution_count": null,
   "id": "a52c0a27-9dfb-4bcf-9620-9a4df61da1c3",
   "metadata": {},
   "outputs": [],
   "source": [
    "import openmc_tally_unit_converter as otuc\n",
    "import openmc"
   ]
  },
  {
   "cell_type": "markdown",
   "id": "529479a1-598b-454f-9fed-102e39194cf1",
   "metadata": {},
   "source": []
  },
  {
   "cell_type": "code",
   "execution_count": null,
   "id": "b1934d79-befd-4c38-b693-725f5c09d6eb",
   "metadata": {},
   "outputs": [],
   "source": [
    "statepoint = openmc.StatePoint(filepath=\"statepoint.2.h5\")"
   ]
  },
  {
   "cell_type": "markdown",
   "id": "74f0a45c-b104-4341-a22a-898a9447e83e",
   "metadata": {},
   "source": []
  },
  {
   "cell_type": "code",
   "execution_count": null,
   "id": "8105aaca-2571-4259-90b6-d3379ed89fcb",
   "metadata": {},
   "outputs": [],
   "source": [
    "my_tally = statepoint.get_tally(name=\"2_heating\")"
   ]
  },
  {
   "cell_type": "markdown",
   "id": "738a890b-a0ae-4f87-8546-195973918e25",
   "metadata": {},
   "source": []
  },
  {
   "cell_type": "code",
   "execution_count": null,
   "id": "57d63abe-329d-4bc4-903d-3c123b98fee3",
   "metadata": {},
   "outputs": [],
   "source": [
    "tally = otuc.process_tally(\n",
    "    tally=my_tally,\n",
    "    # required_units='eV / source_particle'\n",
    ")\n",
    "print(tally)"
   ]
  },
  {
   "cell_type": "markdown",
   "id": "18fe4d99-8dd6-4fae-be50-f7a39653d4f5",
   "metadata": {},
   "source": []
  },
  {
   "cell_type": "code",
   "execution_count": null,
   "id": "78144320-72aa-4bac-b293-063afe44692e",
   "metadata": {},
   "outputs": [],
   "source": [
    "converted_tally = otuc.process_tally(\n",
    "    tally=my_tally,\n",
    "    required_units = \"joules / source_particle\"\n",
    ")\n",
    "\n",
    "print(converted_tally)"
   ]
  },
  {
   "cell_type": "markdown",
   "id": "ba340dcc-ad73-4594-bc47-d186ff3723e2",
   "metadata": {},
   "source": []
  },
  {
   "cell_type": "code",
   "execution_count": null,
   "id": "060131bb-2c02-4fad-bdf9-2efabd05a988",
   "metadata": {},
   "outputs": [],
   "source": [
    "converted_tally = otuc.process_tally(\n",
    "    tally=my_tally,\n",
    "    source_strength=1e20,  # input units for this argument are particles per second\n",
    "    required_units = \"joules / minute\"\n",
    ")\n",
    "\n",
    "print(converted_tally)"
   ]
  },
  {
   "cell_type": "markdown",
   "id": "12c72c7c-e255-4565-92a9-825c468ca716",
   "metadata": {},
   "source": []
  },
  {
   "cell_type": "code",
   "execution_count": null,
   "id": "36846a7b-af7a-4e6b-bb4e-58017f80ecee",
   "metadata": {},
   "outputs": [],
   "source": [
    "converted_tally = otuc.process_tally(\n",
    "    tally=my_tally,\n",
    "    source_strength=13458.3,  # input units for this argument are particles per second\n",
    "    volume=12,  # input units are in cm3\n",
    "    required_units = \"joules / second / meter **3\"\n",
    ")\n",
    "converted_tally"
   ]
  }
 ],
 "metadata": {
  "kernelspec": {
   "display_name": "Python 3 (ipykernel)",
   "language": "python",
   "name": "python3"
  },
  "language_info": {
   "codemirror_mode": {
    "name": "ipython",
    "version": 3
   },
   "file_extension": ".py",
   "mimetype": "text/x-python",
   "name": "python",
   "nbconvert_exporter": "python",
   "pygments_lexer": "ipython3",
   "version": "3.8.12"
  }
 },
 "nbformat": 4,
 "nbformat_minor": 5
}
